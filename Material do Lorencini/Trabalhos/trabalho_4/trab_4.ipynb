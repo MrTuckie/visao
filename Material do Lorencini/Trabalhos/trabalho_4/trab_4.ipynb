{
 "cells": [
  {
   "cell_type": "code",
   "execution_count": 1,
   "metadata": {},
   "outputs": [],
   "source": [
    "import box_data\n",
    "import cv2"
   ]
  },
  {
   "cell_type": "code",
   "execution_count": 2,
   "metadata": {},
   "outputs": [],
   "source": [
    "right_k = box_data.right_k\n",
    "left_k = box_data.left_k\n",
    "imgL = box_data.IL\n",
    "imgR = box_data.IR"
   ]
  },
  {
   "cell_type": "code",
   "execution_count": null,
   "metadata": {},
   "outputs": [],
   "source": [
    "imgL.astype('uint8')\n",
    "imgR.astype('uint8')"
   ]
  },
  {
   "cell_type": "code",
   "execution_count": 3,
   "metadata": {},
   "outputs": [
    {
     "ename": "error",
     "evalue": "OpenCV(4.5.3) /tmp/pip-req-build-xw6jtoah/opencv/modules/calib3d/src/stereobm.cpp:1173: error: (-210:Unsupported format or combination of formats) Both input images must have CV_8UC1 in function 'compute'\n",
     "output_type": "error",
     "traceback": [
      "\u001b[0;31m---------------------------------------------------------------------------\u001b[0m",
      "\u001b[0;31merror\u001b[0m                                     Traceback (most recent call last)",
      "Cell \u001b[0;32mIn[3], line 5\u001b[0m\n\u001b[1;32m      2\u001b[0m stereo \u001b[38;5;241m=\u001b[39m cv2\u001b[38;5;241m.\u001b[39mStereoBM_create(numDisparities\u001b[38;5;241m=\u001b[39m\u001b[38;5;241m16\u001b[39m, blockSize\u001b[38;5;241m=\u001b[39m\u001b[38;5;241m15\u001b[39m)\n\u001b[1;32m      4\u001b[0m \u001b[38;5;66;03m# Calcular o mapa de disparidade\u001b[39;00m\n\u001b[0;32m----> 5\u001b[0m disparity \u001b[38;5;241m=\u001b[39m \u001b[43mstereo\u001b[49m\u001b[38;5;241;43m.\u001b[39;49m\u001b[43mcompute\u001b[49m\u001b[43m(\u001b[49m\u001b[43mimgL\u001b[49m\u001b[43m,\u001b[49m\u001b[43mimgR\u001b[49m\u001b[43m)\u001b[49m\n\u001b[1;32m      7\u001b[0m \u001b[38;5;66;03m# Normalizar o mapa de disparidade para visualização\u001b[39;00m\n\u001b[1;32m      8\u001b[0m norm_coeff \u001b[38;5;241m=\u001b[39m \u001b[38;5;241m255\u001b[39m \u001b[38;5;241m/\u001b[39m disparity\u001b[38;5;241m.\u001b[39mmax()\n",
      "\u001b[0;31merror\u001b[0m: OpenCV(4.5.3) /tmp/pip-req-build-xw6jtoah/opencv/modules/calib3d/src/stereobm.cpp:1173: error: (-210:Unsupported format or combination of formats) Both input images must have CV_8UC1 in function 'compute'\n"
     ]
    }
   ],
   "source": [
    "# Criar um objeto StereoBM\n",
    "stereo = cv2.StereoBM_create(numDisparities=16, blockSize=15)\n",
    "\n",
    "# Calcular o mapa de disparidade\n",
    "disparity = stereo.compute(imgL,imgR)\n",
    "\n",
    "# Normalizar o mapa de disparidade para visualização\n",
    "norm_coeff = 255 / disparity.max()\n",
    "disparity = disparity * norm_coeff / 255\n",
    "\n",
    "# Mostrar o mapa de disparidade\n",
    "cv2.imshow('Disparity', disparity)\n",
    "cv2.waitKey(0)\n",
    "cv2.destroyAllWindows()"
   ]
  }
 ],
 "metadata": {
  "kernelspec": {
   "display_name": "venv",
   "language": "python",
   "name": "python3"
  },
  "language_info": {
   "codemirror_mode": {
    "name": "ipython",
    "version": 3
   },
   "file_extension": ".py",
   "mimetype": "text/x-python",
   "name": "python",
   "nbconvert_exporter": "python",
   "pygments_lexer": "ipython3",
   "version": "3.8.18"
  }
 },
 "nbformat": 4,
 "nbformat_minor": 2
}
