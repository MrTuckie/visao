{
 "cells": [
  {
   "cell_type": "markdown",
   "metadata": {},
   "source": [
    "# Trabalho 3 de Visão Computacional - Arthur Lorencini"
   ]
  },
  {
   "cell_type": "markdown",
   "metadata": {},
   "source": [
    "## Anotações do Ruivo"
   ]
  },
  {
   "cell_type": "markdown",
   "metadata": {},
   "source": [
    " A tarefa é desenvolver a rotina de reconstrução, a partir da detecção do ARUCO acoplado ao robô nas imagens 2D capturadas nos vídeos."
   ]
  },
  {
   "cell_type": "code",
   "execution_count": 1,
   "metadata": {},
   "outputs": [
    {
     "name": "stdout",
     "output_type": "stream",
     "text": [
      "versão do opencv: 4.5.3\n",
      "Camera 0\n",
      "\n",
      "Resolucao [1288, 728] \n",
      "\n",
      "Parametros intrinsecos:\n",
      " [[1.04043210e+03 0.00000000e+00 5.72480211e+02]\n",
      " [0.00000000e+00 1.04880795e+03 4.62789454e+02]\n",
      " [0.00000000e+00 0.00000000e+00 1.00000000e+00]] \n",
      "\n",
      "Parametros extrinsecos:\n",
      "\n",
      "R0\n",
      " [[ 0.65349344  0.49122965 -0.57588172]\n",
      " [ 0.75605975 -0.38709412  0.52776111]\n",
      " [ 0.03633147 -0.78028941 -0.62436244]] \n",
      "\n",
      "T0\n",
      " [[ 3.55736272]\n",
      " [-2.32993409]\n",
      " [ 3.03828529]] \n",
      "\n",
      "Distorcao Radial:\n",
      " [-0.20944314  0.31437416  0.01837805  0.00302083 -0.34523336]\n"
     ]
    },
    {
     "ename": "ModuleNotFoundError",
     "evalue": "No module named 'matplotlib'",
     "output_type": "error",
     "traceback": [
      "\u001b[0;31m---------------------------------------------------------------------------\u001b[0m",
      "\u001b[0;31mModuleNotFoundError\u001b[0m                       Traceback (most recent call last)",
      "Cell \u001b[0;32mIn[1], line 6\u001b[0m\n\u001b[1;32m      4\u001b[0m \u001b[38;5;28mprint\u001b[39m(\u001b[38;5;124m\"\u001b[39m\u001b[38;5;124mversão do opencv:\u001b[39m\u001b[38;5;124m\"\u001b[39m,cv2\u001b[38;5;241m.\u001b[39m__version__)\n\u001b[1;32m      5\u001b[0m \u001b[38;5;28;01mimport\u001b[39;00m \u001b[38;5;21;01mjson\u001b[39;00m\n\u001b[0;32m----> 6\u001b[0m \u001b[38;5;28;01mfrom\u001b[39;00m \u001b[38;5;21;01mhelpers\u001b[39;00m \u001b[38;5;28;01mimport\u001b[39;00m parametros,detect_markers,detect_markers_video\n",
      "File \u001b[0;32m~/GitHub/PESSOAL/[UFES]/visao/Material do Lorencini/Trabalhos/trabalho_3/helpers/detect_markers.py:4\u001b[0m\n\u001b[1;32m      2\u001b[0m \u001b[38;5;28;01mimport\u001b[39;00m \u001b[38;5;21;01mcv2\u001b[39;00m\n\u001b[1;32m      3\u001b[0m \u001b[38;5;28;01mfrom\u001b[39;00m \u001b[38;5;21;01mcv2\u001b[39;00m \u001b[38;5;28;01mimport\u001b[39;00m aruco\n\u001b[0;32m----> 4\u001b[0m \u001b[38;5;28;01mimport\u001b[39;00m \u001b[38;5;21;01mmatplotlib\u001b[39;00m\u001b[38;5;21;01m.\u001b[39;00m\u001b[38;5;21;01mpyplot\u001b[39;00m \u001b[38;5;28;01mas\u001b[39;00m \u001b[38;5;21;01mplt\u001b[39;00m\n\u001b[1;32m      6\u001b[0m frame \u001b[38;5;241m=\u001b[39m cv2\u001b[38;5;241m.\u001b[39mimread(\u001b[38;5;124m\"\u001b[39m\u001b[38;5;124mhelpers/photo01.jpg\u001b[39m\u001b[38;5;124m\"\u001b[39m)\n\u001b[1;32m      8\u001b[0m gray \u001b[38;5;241m=\u001b[39m cv2\u001b[38;5;241m.\u001b[39mcvtColor(frame, cv2\u001b[38;5;241m.\u001b[39mCOLOR_BGR2GRAY)\n",
      "\u001b[0;31mModuleNotFoundError\u001b[0m: No module named 'matplotlib'"
     ]
    }
   ],
   "source": [
    "# Importando bibliotecas\n",
    "import os\n",
    "import cv2\n",
    "print(\"versão do opencv:\",cv2.__version__)\n",
    "import json\n",
    "from helpers import parametros,detect_markers,detect_markers_video"
   ]
  },
  {
   "cell_type": "code",
   "execution_count": null,
   "metadata": {},
   "outputs": [],
   "source": []
  }
 ],
 "metadata": {
  "kernelspec": {
   "display_name": "venv",
   "language": "python",
   "name": "python3"
  },
  "language_info": {
   "codemirror_mode": {
    "name": "ipython",
    "version": 3
   },
   "file_extension": ".py",
   "mimetype": "text/x-python",
   "name": "python",
   "nbconvert_exporter": "python",
   "pygments_lexer": "ipython3",
   "version": "3.8.18"
  }
 },
 "nbformat": 4,
 "nbformat_minor": 2
}
